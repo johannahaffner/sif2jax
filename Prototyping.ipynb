{
 "cells": [
  {
   "cell_type": "code",
   "execution_count": null,
   "id": "50728e99",
   "metadata": {},
   "outputs": [],
   "source": [
    "from collections.abc import Callable\n",
    "\n",
    "import jax\n",
    "import jax.numpy as jnp\n",
    "import numpy as np\n",
    "import pycutest\n",
    "from jaxtyping import ArrayLike, Scalar\n",
    "\n",
    "\n",
    "def test_objective(objective: Callable[[ArrayLike], Scalar], problem_iD: str):\n",
    "    pycutest_problem = pycutest.import_problem(problem_iD)\n",
    "    y0 = jnp.asarray(pycutest_problem.x0)\n",
    "\n",
    "    pycutest_f0, pycutest_grad0 = pycutest_problem.obj(y0, gradient=True)\n",
    "    f0, grad0 = jax.value_and_grad(objective)(y0)\n",
    "\n",
    "    pycutest_hess0 = pycutest_problem.hess(y0)\n",
    "    hess0 = jax.hessian(objective)(y0)\n",
    "\n",
    "    assert np.allclose(f0, pycutest_f0), f\"Objective mismatch for {problem_iD}\"\n",
    "    assert np.allclose(grad0, pycutest_grad0), f\"Gradient mismatch for {problem_iD}\"\n",
    "    assert np.allclose(hess0, pycutest_hess0), f\"Hessian mismatch for {problem_iD}\"\n",
    "\n",
    "    grad0_signs = np.sign(grad0)\n",
    "    pycutest_grad0_signs = np.sign(pycutest_grad0)\n",
    "    gradient_signs_match = np.all(grad0_signs == pycutest_grad0_signs)\n",
    "    assert gradient_signs_match, f\"Gradient sign mismatch for {problem_iD}\"\n",
    "\n",
    "    hess0_signs = np.sign(hess0)\n",
    "    pycutest_hess0_signs = np.sign(pycutest_hess0)\n",
    "    hessian_signs_match = np.all(hess0_signs == pycutest_hess0_signs)\n",
    "    assert hessian_signs_match, f\"Hessian sign mismatch for {problem_iD}\"\n",
    "\n",
    "    return True\n",
    "\n",
    "\n",
    "# def test_compilation(objective: Callable[[ArrayLike], Scalar], problem_iD: str):\n",
    "#     pycutest_problem = pycutest.import_problem(problem_iD)\n",
    "#     y0 = jnp.asarray(pycutest_problem.x0)"
   ]
  },
  {
   "cell_type": "code",
   "execution_count": 80,
   "id": "d5e0c279",
   "metadata": {},
   "outputs": [],
   "source": [
    "def rosenbrock(y):\n",
    "    x1, x2 = y\n",
    "    return (1 - x1) ** 2 + 100 * (x2 - x1**2) ** 2"
   ]
  },
  {
   "cell_type": "code",
   "execution_count": 81,
   "id": "55955fd1",
   "metadata": {},
   "outputs": [
    {
     "data": {
      "text/plain": [
       "True"
      ]
     },
     "execution_count": 81,
     "metadata": {},
     "output_type": "execute_result"
    }
   ],
   "source": [
    "test_objective(rosenbrock, \"ROSENBR\")"
   ]
  }
 ],
 "metadata": {
  "kernelspec": {
   "display_name": "sif2jax-dev",
   "language": "python",
   "name": "python3"
  },
  "language_info": {
   "codemirror_mode": {
    "name": "ipython",
    "version": 3
   },
   "file_extension": ".py",
   "mimetype": "text/x-python",
   "name": "python",
   "nbconvert_exporter": "python",
   "pygments_lexer": "ipython3",
   "version": "3.13.2"
  }
 },
 "nbformat": 4,
 "nbformat_minor": 5
}
